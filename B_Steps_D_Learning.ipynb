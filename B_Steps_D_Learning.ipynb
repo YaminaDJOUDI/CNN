{
  "nbformat": 4,
  "nbformat_minor": 0,
  "metadata": {
    "colab": {
      "name": "B-Steps-D-Learning.ipynb",
      "provenance": [],
      "collapsed_sections": [],
      "toc_visible": true,
      "authorship_tag": "ABX9TyNI0BbRw4LjW2mbL1qyj8lg",
      "include_colab_link": true
    },
    "kernelspec": {
      "name": "python3",
      "display_name": "Python 3"
    },
    "language_info": {
      "name": "python"
    }
  },
  "cells": [
    {
      "cell_type": "markdown",
      "metadata": {
        "id": "view-in-github",
        "colab_type": "text"
      },
      "source": [
        "<a href=\"https://colab.research.google.com/github/YaminaDJOUDI/CNN/blob/master/B_Steps_D_Learning.ipynb\" target=\"_parent\"><img src=\"https://colab.research.google.com/assets/colab-badge.svg\" alt=\"Open In Colab\"/></a>"
      ]
    },
    {
      "cell_type": "code",
      "metadata": {
        "id": "N0-x9lXTKDbA"
      },
      "source": [
        "%tensorflow_version 2.x\n",
        "import tensorflow as tf\n"
      ],
      "execution_count": 1,
      "outputs": []
    },
    {
      "cell_type": "code",
      "metadata": {
        "colab": {
          "base_uri": "https://localhost:8080/"
        },
        "id": "lsAAGymqK4bV",
        "outputId": "4aea1c4f-0c7f-4872-9483-6e905979ef49"
      },
      "source": [
        "#upload googlec colab\n",
        "from google.colab import drive\n",
        "drive.mount('/content/drive')"
      ],
      "execution_count": 2,
      "outputs": [
        {
          "output_type": "stream",
          "text": [
            "Mounted at /content/drive\n"
          ],
          "name": "stdout"
        }
      ]
    },
    {
      "cell_type": "code",
      "metadata": {
        "id": "zdYNcSvBLEO9"
      },
      "source": [
        "# Importing librar\n",
        "\n",
        "import tensorflow.keras\n",
        "from tensorflow.keras.models import Model\n",
        "from tensorflow.keras.layers import Input, Dense, Activation, Flatten, Conv2D, MaxPool2D, Dropout\n",
        "from tensorflow.keras.optimizers import Adam \n",
        "from tensorflow.keras.preprocessing.image import ImageDataGenerator\n",
        "from tensorflow.keras.losses import binary_crossentropy\n",
        "from tensorflow.keras import metrics\n",
        "import matplotlib.pyplot as plt\n",
        "from sklearn.metrics import classification_report, confusion_matrix, plot_confusion_matrix, ConfusionMatrixDisplay\n",
        "import numpy as np"
      ],
      "execution_count": 30,
      "outputs": []
    },
    {
      "cell_type": "code",
      "metadata": {
        "id": "4IVBuKYuLTfo"
      },
      "source": [
        "# Create path\n",
        "train_loc = '/content/drive/MyDrive/Data_Devided/train'\n",
        "test_loc = '/content/drive/MyDrive/Data_Devided/test'"
      ],
      "execution_count": 4,
      "outputs": []
    },
    {
      "cell_type": "code",
      "metadata": {
        "colab": {
          "base_uri": "https://localhost:8080/"
        },
        "id": "_lkqOyOPL-px",
        "outputId": "f5493fff-0046-4893-9aec-c11b1e6180dc"
      },
      "source": [
        "# resize images \n",
        "trdata=ImageDataGenerator(rescale = 1./255,\n",
        "                          shear_range = 0.2,\n",
        "                          zoom_range = 0.2,\n",
        "                          horizontal_flip = True,)\n",
        "\n",
        "traindata=trdata.flow_from_directory(directory=train_loc, target_size=(224,224)) #color_mode='grayscale'\n",
        "\n",
        "tsdata=ImageDataGenerator(rescale = 1./255,\n",
        "                          shear_range = 0.2,\n",
        "                          zoom_range = 0.2,\n",
        "                          horizontal_flip = True,)\n",
        "\n",
        "testdata=tsdata.flow_from_directory(directory=test_loc, target_size=(224,224))"
      ],
      "execution_count": 5,
      "outputs": [
        {
          "output_type": "stream",
          "text": [
            "Found 273 images belonging to 2 classes.\n",
            "Found 90 images belonging to 2 classes.\n"
          ],
          "name": "stdout"
        }
      ]
    },
    {
      "cell_type": "code",
      "metadata": {
        "colab": {
          "base_uri": "https://localhost:8080/"
        },
        "id": "ub_UYH6_Mc9i",
        "outputId": "9012055d-2bee-4c0a-b89c-eaf6b1cd27b7"
      },
      "source": [
        "traindata.class_indices"
      ],
      "execution_count": 6,
      "outputs": [
        {
          "output_type": "execute_result",
          "data": {
            "text/plain": [
              "{'abnormal': 0, 'normal': 1}"
            ]
          },
          "metadata": {},
          "execution_count": 6
        }
      ]
    },
    {
      "cell_type": "code",
      "metadata": {
        "id": "Z4C1Pc0ZM3TK"
      },
      "source": [
        "# define input image\n",
        "input_shape = (224,224,3)\n",
        "\n",
        "# create the Network\n",
        "# Input layer\n",
        "img_imput = Input(shape  = input_shape, name = 'img_input')\n",
        "\n",
        "# Convo layers\n",
        "x = Conv2D(32, (3,3) , padding = 'same' , activation='relu', name = 'layer_1') (img_imput)\n",
        "x = Conv2D(64, (3,3) , padding = 'same' , activation='relu', name = 'layer_2') (x)\n",
        "x = MaxPool2D((2,2), strides=(2,2), name = 'layer_3') (x)\n",
        "x = Dropout(0.25)(x)\n",
        "\n",
        "x = Conv2D(64, (3,3) , padding = 'same' , activation='relu', name = 'layer_4') (x)\n",
        "x = MaxPool2D((2,2), strides=(2,2), name = 'layer_5') (x)\n",
        "x = Dropout(0.25)(x)\n",
        "\n",
        "x = Conv2D(128, (3,3) , padding = 'same' , activation='relu', name = 'layer_6') (x)\n",
        "x = MaxPool2D((2,2), strides=(2,2), name = 'layer_7') (x)\n",
        "x = Dropout(0.25)(x)\n",
        "\n",
        "x = Flatten(name = 'fc_1')(x)\n",
        "x= Dense(64, name = 'lyaer_8')(x)\n",
        "x = Dropout(0.5) (x)\n",
        "x = Dense(2, activation='sigmoid', name='predictions')(x)\n"
      ],
      "execution_count": 7,
      "outputs": []
    },
    {
      "cell_type": "code",
      "metadata": {
        "id": "s2ZP5lDXN0Jb"
      },
      "source": [
        "# Generate the model\n",
        "model = Model(inputs = img_imput, outputs =x , name='Binary_classification')"
      ],
      "execution_count": 8,
      "outputs": []
    },
    {
      "cell_type": "code",
      "metadata": {
        "colab": {
          "base_uri": "https://localhost:8080/"
        },
        "id": "3N5FHb_nOp-Z",
        "outputId": "765bc55a-91e1-451e-cabf-4eb971c28e1f"
      },
      "source": [
        "# Print network structure\n",
        "model.summary()"
      ],
      "execution_count": 9,
      "outputs": [
        {
          "output_type": "stream",
          "text": [
            "Model: \"Binary_classification\"\n",
            "_________________________________________________________________\n",
            "Layer (type)                 Output Shape              Param #   \n",
            "=================================================================\n",
            "img_input (InputLayer)       [(None, 224, 224, 3)]     0         \n",
            "_________________________________________________________________\n",
            "layer_1 (Conv2D)             (None, 224, 224, 32)      896       \n",
            "_________________________________________________________________\n",
            "layer_2 (Conv2D)             (None, 224, 224, 64)      18496     \n",
            "_________________________________________________________________\n",
            "layer_3 (MaxPooling2D)       (None, 112, 112, 64)      0         \n",
            "_________________________________________________________________\n",
            "dropout (Dropout)            (None, 112, 112, 64)      0         \n",
            "_________________________________________________________________\n",
            "layer_4 (Conv2D)             (None, 112, 112, 64)      36928     \n",
            "_________________________________________________________________\n",
            "layer_5 (MaxPooling2D)       (None, 56, 56, 64)        0         \n",
            "_________________________________________________________________\n",
            "dropout_1 (Dropout)          (None, 56, 56, 64)        0         \n",
            "_________________________________________________________________\n",
            "layer_6 (Conv2D)             (None, 56, 56, 128)       73856     \n",
            "_________________________________________________________________\n",
            "layer_7 (MaxPooling2D)       (None, 28, 28, 128)       0         \n",
            "_________________________________________________________________\n",
            "dropout_2 (Dropout)          (None, 28, 28, 128)       0         \n",
            "_________________________________________________________________\n",
            "fc_1 (Flatten)               (None, 100352)            0         \n",
            "_________________________________________________________________\n",
            "lyaer_8 (Dense)              (None, 64)                6422592   \n",
            "_________________________________________________________________\n",
            "dropout_3 (Dropout)          (None, 64)                0         \n",
            "_________________________________________________________________\n",
            "predictions (Dense)          (None, 2)                 130       \n",
            "=================================================================\n",
            "Total params: 6,552,898\n",
            "Trainable params: 6,552,898\n",
            "Non-trainable params: 0\n",
            "_________________________________________________________________\n"
          ],
          "name": "stdout"
        }
      ]
    },
    {
      "cell_type": "code",
      "metadata": {
        "id": "sQcePdLYULEv"
      },
      "source": [
        "# Compiling the model\n",
        "model.compile(optimizer='adam', loss=binary_crossentropy, metrics=['accuracy'])"
      ],
      "execution_count": 10,
      "outputs": []
    },
    {
      "cell_type": "code",
      "metadata": {
        "colab": {
          "base_uri": "https://localhost:8080/"
        },
        "id": "pFvBwZn9Uxn-",
        "outputId": "e1554bec-f602-4f21-906b-1b38e4913073"
      },
      "source": [
        "# start Train/Test\n",
        "batch_size = 32\n",
        "hist = model.fit(traindata, steps_per_epoch = traindata.samples//batch_size,\n",
        "                 validation_data = testdata,validation_steps = testdata.samples//batch_size,\n",
        "                 epochs = 10\n",
        "                 )"
      ],
      "execution_count": 12,
      "outputs": [
        {
          "output_type": "stream",
          "text": [
            "Epoch 1/10\n",
            "8/8 [==============================] - 129s 15s/step - loss: 1.3543 - accuracy: 0.7469 - val_loss: 0.6388 - val_accuracy: 0.8281\n",
            "Epoch 2/10\n",
            "8/8 [==============================] - 89s 11s/step - loss: 0.4397 - accuracy: 0.8631 - val_loss: 0.3470 - val_accuracy: 0.8906\n",
            "Epoch 3/10\n",
            "8/8 [==============================] - 92s 11s/step - loss: 0.3170 - accuracy: 0.8789 - val_loss: 0.3969 - val_accuracy: 0.8750\n",
            "Epoch 4/10\n",
            "8/8 [==============================] - 88s 11s/step - loss: 0.2287 - accuracy: 0.8963 - val_loss: 0.4048 - val_accuracy: 0.8906\n",
            "Epoch 5/10\n",
            "8/8 [==============================] - 87s 11s/step - loss: 0.1882 - accuracy: 0.9295 - val_loss: 0.3121 - val_accuracy: 0.8750\n",
            "Epoch 6/10\n",
            "8/8 [==============================] - 88s 11s/step - loss: 0.2069 - accuracy: 0.9129 - val_loss: 0.3868 - val_accuracy: 0.8906\n",
            "Epoch 7/10\n",
            "8/8 [==============================] - 90s 11s/step - loss: 0.1943 - accuracy: 0.9336 - val_loss: 0.2025 - val_accuracy: 0.9844\n",
            "Epoch 8/10\n",
            "8/8 [==============================] - 88s 11s/step - loss: 0.1534 - accuracy: 0.9585 - val_loss: 0.1150 - val_accuracy: 0.9688\n",
            "Epoch 9/10\n",
            "8/8 [==============================] - 88s 11s/step - loss: 0.1191 - accuracy: 0.9502 - val_loss: 0.2139 - val_accuracy: 0.9688\n",
            "Epoch 10/10\n",
            "8/8 [==============================] - 88s 11s/step - loss: 0.1095 - accuracy: 0.9627 - val_loss: 0.1203 - val_accuracy: 0.9844\n"
          ],
          "name": "stdout"
        }
      ]
    },
    {
      "cell_type": "code",
      "metadata": {
        "colab": {
          "base_uri": "https://localhost:8080/",
          "height": 281
        },
        "id": "ZmbcXeJVfGEm",
        "outputId": "733a81ac-8a04-4556-ddbd-865338b44afc"
      },
      "source": [
        "plt.plot(hist.history['loss'], label = 'train')\n",
        "plt.plot(hist.history['val_loss'], label = 'val')\n",
        "plt.title('CNN_COVID_19 :  Loss  &  Validation Loss')\n",
        "plt.legend()\n",
        "plt.show()"
      ],
      "execution_count": 13,
      "outputs": [
        {
          "output_type": "display_data",
          "data": {
            "image/png": "[encoded data removed]",
            "text/plain": [
              "<Figure size 432x288 with 1 Axes>"
            ]
          },
          "metadata": {
            "needs_background": "light"
          }
        }
      ]
    },
    {
      "cell_type": "code",
      "metadata": {
        "colab": {
          "base_uri": "https://localhost:8080/",
          "height": 281
        },
        "id": "E9mfOPMq1RI_",
        "outputId": "f789e6d5-586c-4df9-8bb3-06809685447f"
      },
      "source": [
        "plt.plot(hist.history['accuracy'], label = 'train')\n",
        "plt.plot(hist.history['val_accuracy'], label = 'val')\n",
        "plt.title('CNN_COVID_19 :  accuracy  &  Validation accuracy')\n",
        "plt.legend()\n",
        "plt.show()"
      ],
      "execution_count": 14,
      "outputs": [
        {
          "output_type": "display_data",
          "data": {
            "image/png": "[encoded data removed]",
            "text/plain": [
              "<Figure size 432x288 with 1 Axes>"
            ]
          },
          "metadata": {
            "needs_background": "light"
          }
        }
      ]
    },
    {
      "cell_type": "code",
      "metadata": {
        "colab": {
          "base_uri": "https://localhost:8080/",
          "height": 558
        },
        "id": "1mr014e33Tg6",
        "outputId": "76bdc9cd-ccbb-4eb5-8615-6db92ddb243d"
      },
      "source": [
        "# Confusion Matrix  & Pres  & Recall   & F1-Score\n",
        "target_name=['Abnormal','Normal']\n",
        "label_names=[0,1]\n",
        "\n",
        "Y_pred = model.predict_generator(testdata)\n",
        "y_pred = np.argmax(Y_pred, axis=1)\n",
        "\n",
        "cm=confusion_matrix(testdata.classes, y_pred, labels=label_names)\n",
        "\n",
        "print('confusion_matrix')\n",
        "print(confusion_matrix(testdata.classes, y_pred))\n",
        "print('class_report')\n",
        "print(classification_report(testdata.classes,y_pred, target_names=target_name))\n",
        "\n",
        "disp = ConfusionMatrixDisplay(confusion_matrix= cm, display_labels=target_name)\n",
        "disp = disp.plot(cmap=plt.cm.Blues, values_format = 'g')\n",
        "plt.show()\n"
      ],
      "execution_count": 33,
      "outputs": [
        {
          "output_type": "stream",
          "text": [
            "/usr/local/lib/python3.7/dist-packages/keras/engine/training.py:2035: UserWarning: `Model.predict_generator` is deprecated and will be removed in a future version. Please use `Model.predict`, which supports generators.\n",
            "  warnings.warn('`Model.predict_generator` is deprecated and '\n"
          ],
          "name": "stderr"
        },
        {
          "output_type": "stream",
          "text": [
            "confusion_matrix\n",
            "[[22 23]\n",
            " [24 21]]\n",
            "class_report\n",
            "              precision    recall  f1-score   support\n",
            "\n",
            "    Abnormal       0.48      0.49      0.48        45\n",
            "      Normal       0.48      0.47      0.47        45\n",
            "\n",
            "    accuracy                           0.48        90\n",
            "   macro avg       0.48      0.48      0.48        90\n",
            "weighted avg       0.48      0.48      0.48        90\n",
            "\n"
          ],
          "name": "stdout"
        },
        {
          "output_type": "display_data",
          "data": {
            "image/png": "[encoded data removed]",
            "text/plain": [
              "<Figure size 432x288 with 2 Axes>"
            ]
          },
          "metadata": {
            "needs_background": "light"
          }
        }
      ]
    }
  ]
}